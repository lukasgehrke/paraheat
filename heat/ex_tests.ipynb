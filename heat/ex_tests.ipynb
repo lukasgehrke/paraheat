{
 "metadata": {
  "language_info": {
   "codemirror_mode": {
    "name": "ipython",
    "version": 3
   },
   "file_extension": ".py",
   "mimetype": "text/x-python",
   "name": "python",
   "nbconvert_exporter": "python",
   "pygments_lexer": "ipython3",
   "version": 3
  },
  "orig_nbformat": 2,
  "kernelspec": {
   "name": "python_defaultSpec_1595492116685",
   "display_name": "Python 3.8.3 64-bit"
  }
 },
 "nbformat": 4,
 "nbformat_minor": 2,
 "cells": [
  {
   "cell_type": "code",
   "execution_count": null,
   "metadata": {},
   "outputs": [],
   "source": [
    "import seaborn as sns\n",
    "import numpy as np\n",
    "import pandas as pd\n",
    "import matplotlib.pyplot as plt\n",
    "import matplotlib.image as mpimg\n",
    "\n",
    "# from heat.heat import Heat\n",
    "#from heat.plot import Plot\n",
    "\n",
    "import heat, plot\n",
    "\n",
    "# from heat import Heat\n",
    "# from plot import Plot\n",
    "\n",
    "# read data\n",
    "df = pd.read_csv('/Users/lukasgehrke/Documents/temp/chatham/crd_gaze_phys-LOW_work-HIGH_equip-Bike_all_good_s.csv')\n",
    "# df = pd.read_csv('/Users/lukasgehrke/Documents/temp/chatham/crd_gaze_phys-LOW_work-HIGH_equip-Treadmill_all_good_s.csv')\n",
    "\n",
    "# df = pd.read_csv('/Users/lukasgehrke/Documents/temp/chatham/crd_gaze_phys-HIGH_work-HIGH_equip-Bike_all_good_s.csv')\n",
    "# df = pd.read_csv('/Users/lukasgehrke/Documents/temp/chatham/crd_gaze_phys-HIGH_work-HIGH_equip-Treadmill_all_good_s.csv')\n",
    "\n",
    "s = df[df['pID'] == 23]\n",
    "# s.pivot('X','Y')\n",
    "\n",
    "# read background image for heatmap\n",
    "img = mpimg.imread('/Users/lukasgehrke/Documents/temp/matb.png')\n",
    "# plt.axis('off')\n",
    "\n",
    "h = heat.Heat('workhigh', s1, None, img)\n",
    "h.heatmap = h.histogram2d()\n",
    "h.heatmap = h.zscore(h.heatmap)\n",
    "h.heatmap = h.gaussian(h.heatmap, 2)\n",
    "\n",
    "# create plot and add plot data\n",
    "p = plot.Plot(h.heatmap)\n",
    "fig, ax = p.create_plot_window()\n",
    "my_cm = p.transparent_cmap(plt.cm.coolwarm)\n",
    "\n",
    "# create plot window\n",
    "ax.imshow(img, alpha=1) # for image\n",
    "\n",
    "# add heatmap\n",
    "p.heat_xy(ax, p.map, h.extent, my_cm)\n",
    "\n",
    "# draw plot\n",
    "plt.show()"
   ]
  },
  {
   "cell_type": "code",
   "execution_count": null,
   "metadata": {},
   "outputs": [],
   "source": [
    "img = mpimg.imread('/Users/lukasgehrke/Documents/temp/matb.png') # read background image for heatmap\n",
    "h = src.heat.Heat('workhigh', df, None, img) # create heatmap\n",
    "h"
   ]
  },
  {
   "cell_type": "markdown",
   "metadata": {},
   "source": [
    "## Header \n",
    "Write some content about what is going on here"
   ]
  }
 ]
}