{
 "metadata": {
  "language_info": {
   "codemirror_mode": {
    "name": "ipython",
    "version": 3
   },
   "file_extension": ".py",
   "mimetype": "text/x-python",
   "name": "python",
   "nbconvert_exporter": "python",
   "pygments_lexer": "ipython3",
   "version": "3.8.5-final"
  },
  "orig_nbformat": 2,
  "kernelspec": {
   "name": "python_defaultSpec_1597391967074",
   "display_name": "Python 3.8.3 64-bit"
  }
 },
 "nbformat": 4,
 "nbformat_minor": 2,
 "cells": [
  {
   "cell_type": "markdown",
   "metadata": {},
   "source": [
    "This notebook servers both as a tutorial as well as a functional test for an analyses using Mark's CRD dataset.\n",
    "The question to address is: \n",
    "\n",
    "predict where subjects look based on phys activity ignoring workload differences which should average out if their is no interaction term\n",
    "\n",
    "# Eye tracking behavior OLS\n",
    "\n",
    "- [ ]  I have time series eye tracking data for multiple subjects and two conditions (between subjects bike vs. treadmill) X 3 intensity levels\n",
    "- [ ]  bin time series eye tracking data for each subject and condition with the same parameters used for binning\n",
    "- [ ]  plot the histogram with an overlay of my task image for each subject and condition plus the condition grand-average\n",
    "- [ ] OLS\n",
    "- [ ]  apply a multiple comparison correction (FDR)\n",
    "- [ ]  plot t map with a significance mask with overlay of crd task image\n",
    "\n",
    "\n"
   ]
  },
  {
   "cell_type": "markdown",
   "metadata": {},
   "source": [
    "## Import pandas, read and prepare input data\n",
    "\n",
    "The standard input format of choice are pandas dataframes in 'long' format with columns X, Y, Z for data and variable length dataframe for the design matrix. "
   ]
  },
  {
   "cell_type": "code",
   "execution_count": 1,
   "metadata": {
    "tags": []
   },
   "outputs": [
    {
     "output_type": "execute_result",
     "data": {
      "text/plain": "         X        Y  pID   Activity Intensity Workload  GTLX\n0  700.374  552.703    1  Treadmill       LOW     HIGH   5.0\n1  703.419  533.708    1  Treadmill       LOW     HIGH   5.0\n2  704.437  513.857    1  Treadmill       LOW     HIGH   5.0\n3  691.987  482.940    1  Treadmill       LOW     HIGH   5.0\n4  688.968  475.724    1  Treadmill       LOW     HIGH   5.0",
      "text/html": "<div>\n<style scoped>\n    .dataframe tbody tr th:only-of-type {\n        vertical-align: middle;\n    }\n\n    .dataframe tbody tr th {\n        vertical-align: top;\n    }\n\n    .dataframe thead th {\n        text-align: right;\n    }\n</style>\n<table border=\"1\" class=\"dataframe\">\n  <thead>\n    <tr style=\"text-align: right;\">\n      <th></th>\n      <th>X</th>\n      <th>Y</th>\n      <th>pID</th>\n      <th>Activity</th>\n      <th>Intensity</th>\n      <th>Workload</th>\n      <th>GTLX</th>\n    </tr>\n  </thead>\n  <tbody>\n    <tr>\n      <th>0</th>\n      <td>700.374</td>\n      <td>552.703</td>\n      <td>1</td>\n      <td>Treadmill</td>\n      <td>LOW</td>\n      <td>HIGH</td>\n      <td>5.0</td>\n    </tr>\n    <tr>\n      <th>1</th>\n      <td>703.419</td>\n      <td>533.708</td>\n      <td>1</td>\n      <td>Treadmill</td>\n      <td>LOW</td>\n      <td>HIGH</td>\n      <td>5.0</td>\n    </tr>\n    <tr>\n      <th>2</th>\n      <td>704.437</td>\n      <td>513.857</td>\n      <td>1</td>\n      <td>Treadmill</td>\n      <td>LOW</td>\n      <td>HIGH</td>\n      <td>5.0</td>\n    </tr>\n    <tr>\n      <th>3</th>\n      <td>691.987</td>\n      <td>482.940</td>\n      <td>1</td>\n      <td>Treadmill</td>\n      <td>LOW</td>\n      <td>HIGH</td>\n      <td>5.0</td>\n    </tr>\n    <tr>\n      <th>4</th>\n      <td>688.968</td>\n      <td>475.724</td>\n      <td>1</td>\n      <td>Treadmill</td>\n      <td>LOW</td>\n      <td>HIGH</td>\n      <td>5.0</td>\n    </tr>\n  </tbody>\n</table>\n</div>"
     },
     "metadata": {},
     "execution_count": 1
    }
   ],
   "source": [
    "import pandas as pd\n",
    "import numpy as np\n",
    "\n",
    "import sys\n",
    "sys.path.append('/Users/lukasgehrke/Documents/code/paraheat/heat/')\n",
    "\n",
    "# MATLAB design matrix\n",
    "# make a full gaze dataframe\n",
    "# [pID, Locomotion, Intensity Level, Workload Level]\n",
    "\n",
    "# MATLAB extract subjective parameters: \n",
    "# X, Y of gaze data plus phys measures\n",
    "# - NASA-TLX and from matb parser\n",
    "\n",
    "# read data\n",
    "df = pd.read_csv('/Users/lukasgehrke/Documents/temp/chatham/LG_data_crdPhase1/df_scenario1.csv')\n",
    "df.head()"
   ]
  },
  {
   "cell_type": "markdown",
   "metadata": {},
   "source": [
    "# Data exploration and cleaning"
   ]
  },
  {
   "cell_type": "code",
   "execution_count": 2,
   "metadata": {},
   "outputs": [
    {
     "output_type": "execute_result",
     "data": {
      "text/plain": "                                   GTLX\nActivity  Intensity Workload           \nBike      HIGH      HIGH      11.300000\n                    LOW        8.681818\n          LOW       HIGH      10.504348\n                    LOW        7.652174\n          NO        HIGH       8.965217\n                    LOW        5.521739\nTreadmill HIGH      HIGH      13.263158\n                    LOW       10.460000\n          LOW       HIGH      11.523810\n                    LOW        8.840000\n          NO        HIGH      10.100000\n                    LOW        8.000000",
      "text/html": "<div>\n<style scoped>\n    .dataframe tbody tr th:only-of-type {\n        vertical-align: middle;\n    }\n\n    .dataframe tbody tr th {\n        vertical-align: top;\n    }\n\n    .dataframe thead th {\n        text-align: right;\n    }\n</style>\n<table border=\"1\" class=\"dataframe\">\n  <thead>\n    <tr style=\"text-align: right;\">\n      <th></th>\n      <th></th>\n      <th></th>\n      <th>GTLX</th>\n    </tr>\n    <tr>\n      <th>Activity</th>\n      <th>Intensity</th>\n      <th>Workload</th>\n      <th></th>\n    </tr>\n  </thead>\n  <tbody>\n    <tr>\n      <th rowspan=\"6\" valign=\"top\">Bike</th>\n      <th rowspan=\"2\" valign=\"top\">HIGH</th>\n      <th>HIGH</th>\n      <td>11.300000</td>\n    </tr>\n    <tr>\n      <th>LOW</th>\n      <td>8.681818</td>\n    </tr>\n    <tr>\n      <th rowspan=\"2\" valign=\"top\">LOW</th>\n      <th>HIGH</th>\n      <td>10.504348</td>\n    </tr>\n    <tr>\n      <th>LOW</th>\n      <td>7.652174</td>\n    </tr>\n    <tr>\n      <th rowspan=\"2\" valign=\"top\">NO</th>\n      <th>HIGH</th>\n      <td>8.965217</td>\n    </tr>\n    <tr>\n      <th>LOW</th>\n      <td>5.521739</td>\n    </tr>\n    <tr>\n      <th rowspan=\"6\" valign=\"top\">Treadmill</th>\n      <th rowspan=\"2\" valign=\"top\">HIGH</th>\n      <th>HIGH</th>\n      <td>13.263158</td>\n    </tr>\n    <tr>\n      <th>LOW</th>\n      <td>10.460000</td>\n    </tr>\n    <tr>\n      <th rowspan=\"2\" valign=\"top\">LOW</th>\n      <th>HIGH</th>\n      <td>11.523810</td>\n    </tr>\n    <tr>\n      <th>LOW</th>\n      <td>8.840000</td>\n    </tr>\n    <tr>\n      <th rowspan=\"2\" valign=\"top\">NO</th>\n      <th>HIGH</th>\n      <td>10.100000</td>\n    </tr>\n    <tr>\n      <th>LOW</th>\n      <td>8.000000</td>\n    </tr>\n  </tbody>\n</table>\n</div>"
     },
     "metadata": {},
     "execution_count": 2
    }
   ],
   "source": [
    "\n",
    "# check design impact on GTLX\n",
    "df_gtlx = df.drop(['X', 'Y'], axis=1)\n",
    "df_gtlx.drop_duplicates(inplace=True)\n",
    "\n",
    "grouped = df_gtlx.drop(['pID'], axis=1).groupby(['Activity', 'Intensity', 'Workload'])\n",
    "grouped.mean()"
   ]
  },
  {
   "cell_type": "code",
   "execution_count": 4,
   "metadata": {
    "tags": []
   },
   "outputs": [
    {
     "output_type": "stream",
     "name": "stdout",
     "text": "now making map for s 1\nnow making map for s 2\nnow making map for s 3\nnow making map for s 4\nnow making map for s 5\nnow making map for s 6\nnow making map for s 7\nnow making map for s 8\nnow making map for s 9\nnow making map for s 10\nnow making map for s 11\nnow making map for s 12\nnow making map for s 13\nnow making map for s 14\nnow making map for s 15\nnow making map for s 16\nnow making map for s 17\nnow making map for s 18\nnow making map for s 19\nnow making map for s 20\nnow making map for s 21\nnow making map for s 23\nnow making map for s 24\nnow making map for s 25\nnow making map for s 26\nnow making map for s 27\nnow making map for s 28\nnow making map for s 29\nnow making map for s 30\nnow making map for s 31\nnow making map for s 32\nnow making map for s 33\nnow making map for s 34\nnow making map for s 35\nnow making map for s 36\nnow making map for s 37\nnow making map for s 38\nnow making map for s 39\nnow making map for s 40\nnow making map for s 41\nnow making map for s 42\nnow making map for s 43\nnow making map for s 44\nnow making map for s 45\nnow making map for s 46\nnow making map for s 47\nnow making map for s 48\n"
    }
   ],
   "source": [
    "\n",
    "from paraheat_study import OLS\n",
    "\n",
    "# paraheat pipeline\n",
    "data = df[['X', 'Y']]\n",
    "design = df[['pID' ,'Activity', 'Workload', 'Intensity', 'GTLX']]\n",
    "st = OLS(name=\"test\", data=df, design_matrix=design, model=\"pixel ~ Activity * Workload\")\n",
    "bins = 15\n",
    "st.create_paraheats('pID', bins)"
   ]
  },
  {
   "cell_type": "markdown",
   "metadata": {},
   "source": [
    "# Modelfitting"
   ]
  },
  {
   "cell_type": "code",
   "execution_count": 6,
   "metadata": {
    "tags": []
   },
   "outputs": [
    {
     "output_type": "stream",
     "name": "stdout",
     "text": "now fitting column 0\nnow fitting column 1\nnow fitting column 2\nnow fitting column 3\nnow fitting column 4\nnow fitting column 5\nnow fitting column 6\nnow fitting column 7\nnow fitting column 8\nnow fitting column 9\nnow fitting column 10\nnow fitting column 11\nnow fitting column 12\nnow fitting column 13\nnow fitting column 14\nnow fitting column 15\nnow fitting column 16\nnow fitting column 17\nnow fitting column 18\nnow fitting column 19\nnow fitting column 20\nnow fitting column 21\nnow fitting column 22\nnow fitting column 23\nnow fitting column 24\nnow fitting column 25\nnow fitting column 26\nnow fitting column 27\nnow fitting column 28\nnow fitting column 29\nnow fitting column 30\nnow fitting column 31\nnow fitting column 32\nnow fitting column 33\nnow fitting column 34\nnow fitting column 35\nnow fitting column 36\nnow fitting column 37\nnow fitting column 38\nnow fitting column 39\nnow fitting column 40\nnow fitting column 41\nnow fitting column 42\nnow fitting column 43\nnow fitting column 44\nnow fitting column 45\nnow fitting column 46\nnow fitting column 47\nnow fitting column 48\nnow fitting column 49\nnow fitting column 50\nnow fitting column 51\nnow fitting column 52\nnow fitting column 53\nnow fitting column 54\nnow fitting column 55\nnow fitting column 56\nnow fitting column 57\nnow fitting column 58\nnow fitting column 59\nnow fitting column 60\nnow fitting column 61\nnow fitting column 62\nnow fitting column 63\nnow fitting column 64\nnow fitting column 65\nnow fitting column 66\nnow fitting column 67\nnow fitting column 68\nnow fitting column 69\nnow fitting column 70\nnow fitting column 71\nnow fitting column 72\nnow fitting column 73\nnow fitting column 74\nnow fitting column 75\nnow fitting column 76\nnow fitting column 77\nnow fitting column 78\nnow fitting column 79\nnow fitting column 80\nnow fitting column 81\nnow fitting column 82\nnow fitting column 83\nnow fitting column 84\nnow fitting column 85\nnow fitting column 86\nnow fitting column 87\nnow fitting column 88\nnow fitting column 89\nnow fitting column 90\nnow fitting column 91\nnow fitting column 92\nnow fitting column 93\nnow fitting column 94\nnow fitting column 95\nnow fitting column 96\nnow fitting column 97\nnow fitting column 98\nnow fitting column 99\nnow fitting column 100\nnow fitting column 101\nnow fitting column 102\nnow fitting column 103\nnow fitting column 104\nnow fitting column 105\nnow fitting column 106\nnow fitting column 107\nnow fitting column 108\nnow fitting column 109\nnow fitting column 110\nnow fitting column 111\nnow fitting column 112\nnow fitting column 113\nnow fitting column 114\nnow fitting column 115\nnow fitting column 116\nnow fitting column 117\nnow fitting column 118\nnow fitting column 119\nnow fitting column 120\nnow fitting column 121\nnow fitting column 122\nnow fitting column 123\nnow fitting column 124\nnow fitting column 125\nnow fitting column 126\nnow fitting column 127\nnow fitting column 128\nnow fitting column 129\nnow fitting column 130\nnow fitting column 131\nnow fitting column 132\nnow fitting column 133\nnow fitting column 134\nnow fitting column 135\nnow fitting column 136\nnow fitting column 137\nnow fitting column 138\nnow fitting column 139\nnow fitting column 140\nnow fitting column 141\nnow fitting column 142\nnow fitting column 143\nnow fitting column 144\nnow fitting column 145\nnow fitting column 146\nnow fitting column 147\nnow fitting column 148\nnow fitting column 149\nnow fitting column 150\nnow fitting column 151\nnow fitting column 152\nnow fitting column 153\nnow fitting column 154\nnow fitting column 155\nnow fitting column 156\nnow fitting column 157\nnow fitting column 158\nnow fitting column 159\nnow fitting column 160\nnow fitting column 161\nnow fitting column 162\nnow fitting column 163\nnow fitting column 164\nnow fitting column 165\nnow fitting column 166\nnow fitting column 167\nnow fitting column 168\nnow fitting column 169\nnow fitting column 170\nnow fitting column 171\nnow fitting column 172\nnow fitting column 173\nnow fitting column 174\nnow fitting column 175\nnow fitting column 176\nnow fitting column 177\nnow fitting column 178\nnow fitting column 179\nnow fitting column 180\nnow fitting column 181\nnow fitting column 182\nnow fitting column 183\nnow fitting column 184\nnow fitting column 185\nnow fitting column 186\nnow fitting column 187\nnow fitting column 188\nnow fitting column 189\nnow fitting column 190\nnow fitting column 191\nnow fitting column 192\nnow fitting column 193\nnow fitting column 194\nnow fitting column 195\nnow fitting column 196\nnow fitting column 197\nnow fitting column 198\nnow fitting column 199\nnow fitting column 200\nnow fitting column 201\nnow fitting column 202\nnow fitting column 203\nnow fitting column 204\nnow fitting column 205\nnow fitting column 206\nnow fitting column 207\nnow fitting column 208\nnow fitting column 209\nnow fitting column 210\nnow fitting column 211\nnow fitting column 212\nnow fitting column 213\nnow fitting column 214\nnow fitting column 215\nnow fitting column 216\nnow fitting column 217\nnow fitting column 218\nnow fitting column 219\nnow fitting column 220\nnow fitting column 221\nnow fitting column 222\nnow fitting column 223\nnow fitting column 224\n"
    },
    {
     "output_type": "execute_result",
     "data": {
      "text/plain": "     Intercept  Activity[T.Treadmill]  Workload[T.LOW]  \\\n0         2.16               1.887619     6.720000e+00   \n1         1.52               4.003810     8.840000e+00   \n2         2.64               3.931429     3.840000e+00   \n3         3.80               3.485714     3.600000e-01   \n4         2.56               2.297143     4.400000e-01   \n..         ...                    ...              ...   \n220       0.88               1.310476     1.040000e+00   \n221       0.80               1.438095     5.600000e-01   \n222       0.96               0.230476    -1.110223e-15   \n223       0.48               0.472381     1.080000e+00   \n224       0.84               0.493333     4.000000e-02   \n\n     Activity[T.Treadmill]:Workload[T.LOW]  r_squared  \n0                                -7.517619   0.093825  \n1                                -8.663810   0.061137  \n2                                -5.411429   0.038571  \n3                                -1.445714   0.021569  \n4                                 3.302857   0.066158  \n..                                     ...        ...  \n220                              -0.430476   0.033450  \n221                              -0.548095   0.050074  \n222                               0.709524   0.024719  \n223                              -0.682381   0.027762  \n224                              -0.673333   0.019609  \n\n[225 rows x 5 columns]",
      "text/html": "<div>\n<style scoped>\n    .dataframe tbody tr th:only-of-type {\n        vertical-align: middle;\n    }\n\n    .dataframe tbody tr th {\n        vertical-align: top;\n    }\n\n    .dataframe thead th {\n        text-align: right;\n    }\n</style>\n<table border=\"1\" class=\"dataframe\">\n  <thead>\n    <tr style=\"text-align: right;\">\n      <th></th>\n      <th>Intercept</th>\n      <th>Activity[T.Treadmill]</th>\n      <th>Workload[T.LOW]</th>\n      <th>Activity[T.Treadmill]:Workload[T.LOW]</th>\n      <th>r_squared</th>\n    </tr>\n  </thead>\n  <tbody>\n    <tr>\n      <th>0</th>\n      <td>2.16</td>\n      <td>1.887619</td>\n      <td>6.720000e+00</td>\n      <td>-7.517619</td>\n      <td>0.093825</td>\n    </tr>\n    <tr>\n      <th>1</th>\n      <td>1.52</td>\n      <td>4.003810</td>\n      <td>8.840000e+00</td>\n      <td>-8.663810</td>\n      <td>0.061137</td>\n    </tr>\n    <tr>\n      <th>2</th>\n      <td>2.64</td>\n      <td>3.931429</td>\n      <td>3.840000e+00</td>\n      <td>-5.411429</td>\n      <td>0.038571</td>\n    </tr>\n    <tr>\n      <th>3</th>\n      <td>3.80</td>\n      <td>3.485714</td>\n      <td>3.600000e-01</td>\n      <td>-1.445714</td>\n      <td>0.021569</td>\n    </tr>\n    <tr>\n      <th>4</th>\n      <td>2.56</td>\n      <td>2.297143</td>\n      <td>4.400000e-01</td>\n      <td>3.302857</td>\n      <td>0.066158</td>\n    </tr>\n    <tr>\n      <th>...</th>\n      <td>...</td>\n      <td>...</td>\n      <td>...</td>\n      <td>...</td>\n      <td>...</td>\n    </tr>\n    <tr>\n      <th>220</th>\n      <td>0.88</td>\n      <td>1.310476</td>\n      <td>1.040000e+00</td>\n      <td>-0.430476</td>\n      <td>0.033450</td>\n    </tr>\n    <tr>\n      <th>221</th>\n      <td>0.80</td>\n      <td>1.438095</td>\n      <td>5.600000e-01</td>\n      <td>-0.548095</td>\n      <td>0.050074</td>\n    </tr>\n    <tr>\n      <th>222</th>\n      <td>0.96</td>\n      <td>0.230476</td>\n      <td>-1.110223e-15</td>\n      <td>0.709524</td>\n      <td>0.024719</td>\n    </tr>\n    <tr>\n      <th>223</th>\n      <td>0.48</td>\n      <td>0.472381</td>\n      <td>1.080000e+00</td>\n      <td>-0.682381</td>\n      <td>0.027762</td>\n    </tr>\n    <tr>\n      <th>224</th>\n      <td>0.84</td>\n      <td>0.493333</td>\n      <td>4.000000e-02</td>\n      <td>-0.673333</td>\n      <td>0.019609</td>\n    </tr>\n  </tbody>\n</table>\n<p>225 rows × 5 columns</p>\n</div>"
     },
     "metadata": {},
     "execution_count": 6
    }
   ],
   "source": [
    "st.columnwise_zscore()\n",
    "st.fit()\n",
    "\n",
    "\n",
    "\n",
    "\n",
    "\n",
    "\n",
    "\n"
   ]
  },
  {
   "cell_type": "markdown",
   "metadata": {},
   "source": [
    "## Plot t score map with contour of significant pixels after FDR MCC"
   ]
  },
  {
   "cell_type": "code",
   "execution_count": 34,
   "metadata": {},
   "outputs": [
    {
     "output_type": "execute_result",
     "data": {
      "text/plain": "0      1.887619\n1      4.003810\n2      3.931429\n3      3.485714\n4      2.297143\n         ...   \n220    1.310476\n221    1.438095\n222    0.230476\n223    0.472381\n224    0.493333\nName: Activity[T.Treadmill], Length: 225, dtype: float64"
     },
     "metadata": {},
     "execution_count": 34
    }
   ],
   "source": [
    "# st._first_level\n",
    "# st._design_matrix_first_level\n",
    "st._second_level.iloc[:, 1]"
   ]
  },
  {
   "cell_type": "code",
   "execution_count": 28,
   "metadata": {},
   "outputs": [
    {
     "output_type": "error",
     "ename": "AttributeError",
     "evalue": "'DataFrame' object has no attribute 'Activity'",
     "traceback": [
      "\u001b[0;31m---------------------------------------------------------------------------\u001b[0m",
      "\u001b[0;31mAttributeError\u001b[0m                            Traceback (most recent call last)",
      "\u001b[0;32m<ipython-input-28-b9b1e405ff2e>\u001b[0m in \u001b[0;36m<module>\u001b[0;34m\u001b[0m\n\u001b[1;32m      8\u001b[0m \u001b[0;34m\u001b[0m\u001b[0m\n\u001b[1;32m      9\u001b[0m \u001b[0;31m# plot data\u001b[0m\u001b[0;34m\u001b[0m\u001b[0;34m\u001b[0m\u001b[0;34m\u001b[0m\u001b[0m\n\u001b[0;32m---> 10\u001b[0;31m \u001b[0mto_plot\u001b[0m \u001b[0;34m=\u001b[0m \u001b[0mnp\u001b[0m\u001b[0;34m.\u001b[0m\u001b[0mreshape\u001b[0m\u001b[0;34m(\u001b[0m\u001b[0mnp\u001b[0m\u001b[0;34m.\u001b[0m\u001b[0marray\u001b[0m\u001b[0;34m(\u001b[0m\u001b[0mst\u001b[0m\u001b[0;34m.\u001b[0m\u001b[0m_second_level\u001b[0m\u001b[0;34m.\u001b[0m\u001b[0mActivity\u001b[0m\u001b[0;34m[\u001b[0m\u001b[0mT\u001b[0m\u001b[0;34m.\u001b[0m\u001b[0mTreadmill\u001b[0m\u001b[0;34m]\u001b[0m\u001b[0;34m)\u001b[0m\u001b[0;34m,\u001b[0m\u001b[0;34m(\u001b[0m\u001b[0mbins\u001b[0m\u001b[0;34m,\u001b[0m\u001b[0mbins\u001b[0m\u001b[0;34m)\u001b[0m\u001b[0;34m)\u001b[0m\u001b[0;34m\u001b[0m\u001b[0;34m\u001b[0m\u001b[0m\n\u001b[0m\u001b[1;32m     11\u001b[0m \u001b[0;34m\u001b[0m\u001b[0m\n\u001b[1;32m     12\u001b[0m \u001b[0;31m# plot settings and parameters\u001b[0m\u001b[0;34m\u001b[0m\u001b[0;34m\u001b[0m\u001b[0;34m\u001b[0m\u001b[0m\n",
      "\u001b[0;32m~/Documents/code/paraheat/env-ph/lib/python3.8/site-packages/pandas/core/generic.py\u001b[0m in \u001b[0;36m__getattr__\u001b[0;34m(self, name)\u001b[0m\n\u001b[1;32m   5128\u001b[0m             \u001b[0;32mif\u001b[0m \u001b[0mself\u001b[0m\u001b[0;34m.\u001b[0m\u001b[0m_info_axis\u001b[0m\u001b[0;34m.\u001b[0m\u001b[0m_can_hold_identifiers_and_holds_name\u001b[0m\u001b[0;34m(\u001b[0m\u001b[0mname\u001b[0m\u001b[0;34m)\u001b[0m\u001b[0;34m:\u001b[0m\u001b[0;34m\u001b[0m\u001b[0;34m\u001b[0m\u001b[0m\n\u001b[1;32m   5129\u001b[0m                 \u001b[0;32mreturn\u001b[0m \u001b[0mself\u001b[0m\u001b[0;34m[\u001b[0m\u001b[0mname\u001b[0m\u001b[0;34m]\u001b[0m\u001b[0;34m\u001b[0m\u001b[0;34m\u001b[0m\u001b[0m\n\u001b[0;32m-> 5130\u001b[0;31m             \u001b[0;32mreturn\u001b[0m \u001b[0mobject\u001b[0m\u001b[0;34m.\u001b[0m\u001b[0m__getattribute__\u001b[0m\u001b[0;34m(\u001b[0m\u001b[0mself\u001b[0m\u001b[0;34m,\u001b[0m \u001b[0mname\u001b[0m\u001b[0;34m)\u001b[0m\u001b[0;34m\u001b[0m\u001b[0;34m\u001b[0m\u001b[0m\n\u001b[0m\u001b[1;32m   5131\u001b[0m \u001b[0;34m\u001b[0m\u001b[0m\n\u001b[1;32m   5132\u001b[0m     \u001b[0;32mdef\u001b[0m \u001b[0m__setattr__\u001b[0m\u001b[0;34m(\u001b[0m\u001b[0mself\u001b[0m\u001b[0;34m,\u001b[0m \u001b[0mname\u001b[0m\u001b[0;34m:\u001b[0m \u001b[0mstr\u001b[0m\u001b[0;34m,\u001b[0m \u001b[0mvalue\u001b[0m\u001b[0;34m)\u001b[0m \u001b[0;34m->\u001b[0m \u001b[0;32mNone\u001b[0m\u001b[0;34m:\u001b[0m\u001b[0;34m\u001b[0m\u001b[0;34m\u001b[0m\u001b[0m\n",
      "\u001b[0;31mAttributeError\u001b[0m: 'DataFrame' object has no attribute 'Activity'"
     ]
    }
   ],
   "source": [
    "\n",
    "\n",
    "# reshape and plot\n",
    "import plot as ph\n",
    "import matplotlib.image as mpimg\n",
    "import matplotlib.pyplot as plt\n",
    "\n",
    "# read background image for heatmap\n",
    "bg_img = mpimg.imread('/Users/lukasgehrke/Documents/temp/matb.png')\n",
    "\n",
    "# plot data\n",
    "to_plot = np.reshape(np.array(st._second_level.st._second_level.iloc[:, 1]),(bins,bins)) # activity treadmill over bike\n",
    "\n",
    "# plot settings and parameters\n",
    "extent = ph.get_image_extent(bg_img)\n",
    "my_cm = ph.make_cm_transparent(plt.cm.coolwarm)\n",
    "\n",
    "# create plot and add elements and formatting\n",
    "fig, ax = ph.create_figure_axes(1)\n",
    "ph.add_background_image(bg_img, ax)\n",
    "heat = ph.add_heat(to_plot, ax, extent, cm=my_cm, add_contour=False, contour_mask=None, levels=None)\n",
    "ph.add_colorbar(heat, ax)\n",
    "ph.set_labelnames(ax, title=\"some title\", xlabel=\"some x label\", ylabel=\"some y label\")\n",
    "ph.format_axes(ax)\n",
    "ph.show()\n"
   ]
  },
  {
   "cell_type": "code",
   "execution_count": null,
   "metadata": {},
   "outputs": [],
   "source": []
  }
 ]
}