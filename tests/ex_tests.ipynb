{
 "metadata": {
  "language_info": {
   "codemirror_mode": {
    "name": "ipython",
    "version": 3
   },
   "file_extension": ".py",
   "mimetype": "text/x-python",
   "name": "python",
   "nbconvert_exporter": "python",
   "pygments_lexer": "ipython3",
   "version": 3
  },
  "orig_nbformat": 2,
  "kernelspec": {
   "name": "python_defaultSpec_1596030615203",
   "display_name": "Python 3.8.3 64-bit"
  }
 },
 "nbformat": 4,
 "nbformat_minor": 2,
 "cells": [
  {
   "cell_type": "markdown",
   "metadata": {},
   "source": [
    "# Imports\n",
    "Scientific python stack, plus MNE python, neuroscientific toolbox"
   ]
  },
  {
   "cell_type": "code",
   "execution_count": 5,
   "metadata": {},
   "outputs": [],
   "source": [
    "import pandas as pd\n",
    "import matplotlib.pyplot as plt\n",
    "import matplotlib.image as mpimg\n",
    "\n",
    "# inmport module\n",
    "import heat, plot"
   ]
  },
  {
   "cell_type": "markdown",
   "metadata": {},
   "source": [
    "# Input: Pandas Dataframe\n",
    "The standard input format of choice are pandas dataframes in 'long' format with columns X, Y, Z for data and variable length dataframe for the design matrix. "
   ]
  },
  {
   "cell_type": "code",
   "execution_count": 6,
   "metadata": {},
   "outputs": [
    {
     "output_type": "execute_result",
     "data": {
      "text/plain": "         X        Y  pID\n0  827.318   52.267   23\n1  765.393  212.404   23\n2  664.930  177.807   23\n3  678.422  187.930   23\n4  630.676  150.638   23",
      "text/html": "<div>\n<style scoped>\n    .dataframe tbody tr th:only-of-type {\n        vertical-align: middle;\n    }\n\n    .dataframe tbody tr th {\n        vertical-align: top;\n    }\n\n    .dataframe thead th {\n        text-align: right;\n    }\n</style>\n<table border=\"1\" class=\"dataframe\">\n  <thead>\n    <tr style=\"text-align: right;\">\n      <th></th>\n      <th>X</th>\n      <th>Y</th>\n      <th>pID</th>\n    </tr>\n  </thead>\n  <tbody>\n    <tr>\n      <th>0</th>\n      <td>827.318</td>\n      <td>52.267</td>\n      <td>23</td>\n    </tr>\n    <tr>\n      <th>1</th>\n      <td>765.393</td>\n      <td>212.404</td>\n      <td>23</td>\n    </tr>\n    <tr>\n      <th>2</th>\n      <td>664.930</td>\n      <td>177.807</td>\n      <td>23</td>\n    </tr>\n    <tr>\n      <th>3</th>\n      <td>678.422</td>\n      <td>187.930</td>\n      <td>23</td>\n    </tr>\n    <tr>\n      <th>4</th>\n      <td>630.676</td>\n      <td>150.638</td>\n      <td>23</td>\n    </tr>\n  </tbody>\n</table>\n</div>"
     },
     "metadata": {},
     "execution_count": 6
    }
   ],
   "source": [
    "# read data\n",
    "df = pd.read_csv('/Users/lukasgehrke/Documents/temp/chatham/crd_gaze_phys-LOW_work-HIGH_equip-Bike_all_good_s.csv')\n",
    "# df = pd.read_csv('/Users/lukasgehrke/Documents/temp/chatham/crd_gaze_phys-LOW_work-HIGH_equip-Treadmill_all_good_s.csv')\n",
    "\n",
    "# df = pd.read_csv('/Users/lukasgehrke/Documents/temp/chatham/crd_gaze_phys-HIGH_work-HIGH_equip-Bike_all_good_s.csv')\n",
    "# df = pd.read_csv('/Users/lukasgehrke/Documents/temp/chatham/crd_gaze_phys-HIGH_work-HIGH_equip-Treadmill_all_good_s.csv')\n",
    "\n",
    "s = df[df['pID'] == 23]\n",
    "s.head()"
   ]
  },
  {
   "cell_type": "markdown",
   "metadata": {},
   "source": [
    "# Pipeline\n",
    "\n",
    "1. Load data and e.g. background image\n",
    "2. Set parameters for binning, maintain across trials/participants/users (1st level)\n",
    "\n",
    "For each trial (within-subject design or 1st level):\n",
    "\n",
    "1. binning:\n",
    "* fixed edges (histogram)\n",
    "* kNN etc. to be explored\n",
    "2. standardization\n",
    "3. (smoothing) -> increase overlap across users/participants\n",
    "4. modelfitting\n",
    "\n",
    "between subject design or 2nd level:\n",
    "1. modelfitting\n",
    "2. multiple comparison correction\n"
   ]
  },
  {
   "cell_type": "code",
   "execution_count": 7,
   "metadata": {},
   "outputs": [],
   "source": [
    "\n",
    "# read background image for heatmap\n",
    "img = mpimg.imread('/Users/lukasgehrke/Documents/temp/matb.png')\n",
    "# plt.axis('off')\n",
    "\n",
    "h = heat.Heat('workhigh', s, None, img)\n",
    "h.heatmap = h.histogram2d()\n",
    "# h.heatmap = h.zscore(h.heatmap)\n",
    "# h.heatmap = h.gaussian(h.heatmap, 2)"
   ]
  },
  {
   "cell_type": "markdown",
   "metadata": {},
   "source": [
    "# Plot\n",
    "\n",
    "1. create plot and set plot formatting\n",
    "2. add data to plot\n",
    "3. draw plot and export high resolution"
   ]
  },
  {
   "cell_type": "code",
   "execution_count": 8,
   "metadata": {},
   "outputs": [
    {
     "output_type": "error",
     "ename": "AttributeError",
     "evalue": "'tuple' object has no attribute 'heatmap'",
     "traceback": [
      "\u001b[0;31m---------------------------------------------------------------------------\u001b[0m",
      "\u001b[0;31mAttributeError\u001b[0m                            Traceback (most recent call last)",
      "\u001b[0;32m<ipython-input-8-ad0f64b6122f>\u001b[0m in \u001b[0;36m<module>\u001b[0;34m\u001b[0m\n\u001b[1;32m      1\u001b[0m \u001b[0;31m# create plot and add plot data\u001b[0m\u001b[0;34m\u001b[0m\u001b[0;34m\u001b[0m\u001b[0;34m\u001b[0m\u001b[0m\n\u001b[0;32m----> 2\u001b[0;31m \u001b[0mp\u001b[0m \u001b[0;34m=\u001b[0m \u001b[0mplot\u001b[0m\u001b[0;34m.\u001b[0m\u001b[0mPlot\u001b[0m\u001b[0;34m(\u001b[0m\u001b[0mh\u001b[0m\u001b[0;34m.\u001b[0m\u001b[0mheatmap\u001b[0m\u001b[0;34m)\u001b[0m\u001b[0;34m\u001b[0m\u001b[0;34m\u001b[0m\u001b[0m\n\u001b[0m\u001b[1;32m      3\u001b[0m \u001b[0mfig\u001b[0m\u001b[0;34m,\u001b[0m \u001b[0max\u001b[0m \u001b[0;34m=\u001b[0m \u001b[0mp\u001b[0m\u001b[0;34m.\u001b[0m\u001b[0mcreate_plot_window\u001b[0m\u001b[0;34m(\u001b[0m\u001b[0;34m)\u001b[0m\u001b[0;34m\u001b[0m\u001b[0;34m\u001b[0m\u001b[0m\n\u001b[1;32m      4\u001b[0m \u001b[0mmy_cm\u001b[0m \u001b[0;34m=\u001b[0m \u001b[0mp\u001b[0m\u001b[0;34m.\u001b[0m\u001b[0mtransparent_cmap\u001b[0m\u001b[0;34m(\u001b[0m\u001b[0mplt\u001b[0m\u001b[0;34m.\u001b[0m\u001b[0mcm\u001b[0m\u001b[0;34m.\u001b[0m\u001b[0mcoolwarm\u001b[0m\u001b[0;34m)\u001b[0m\u001b[0;34m\u001b[0m\u001b[0;34m\u001b[0m\u001b[0m\n\u001b[1;32m      5\u001b[0m \u001b[0;34m\u001b[0m\u001b[0m\n",
      "\u001b[0;32m~/Documents/code/heat/heat/plot.py\u001b[0m in \u001b[0;36m__init__\u001b[0;34m(self, heat, fig_size)\u001b[0m\n\u001b[1;32m     10\u001b[0m \u001b[0;34m\u001b[0m\u001b[0m\n\u001b[1;32m     11\u001b[0m     \u001b[0;32mdef\u001b[0m \u001b[0m__init__\u001b[0m\u001b[0;34m(\u001b[0m\u001b[0mself\u001b[0m\u001b[0;34m,\u001b[0m \u001b[0mheat\u001b[0m\u001b[0;34m,\u001b[0m \u001b[0mfig_size\u001b[0m\u001b[0;34m=\u001b[0m\u001b[0;34m(\u001b[0m\u001b[0;36m16\u001b[0m\u001b[0;34m,\u001b[0m\u001b[0;36m9\u001b[0m\u001b[0;34m)\u001b[0m\u001b[0;34m)\u001b[0m\u001b[0;34m:\u001b[0m\u001b[0;34m\u001b[0m\u001b[0;34m\u001b[0m\u001b[0m\n\u001b[0;32m---> 12\u001b[0;31m         \u001b[0mself\u001b[0m\u001b[0;34m.\u001b[0m\u001b[0mmap\u001b[0m \u001b[0;34m=\u001b[0m \u001b[0mheat\u001b[0m\u001b[0;34m.\u001b[0m\u001b[0mheatmap\u001b[0m\u001b[0;34m\u001b[0m\u001b[0;34m\u001b[0m\u001b[0m\n\u001b[0m\u001b[1;32m     13\u001b[0m         \u001b[0mself\u001b[0m\u001b[0;34m.\u001b[0m\u001b[0mextent\u001b[0m \u001b[0;34m=\u001b[0m \u001b[0mheat\u001b[0m\u001b[0;34m.\u001b[0m\u001b[0mextent\u001b[0m\u001b[0;34m\u001b[0m\u001b[0;34m\u001b[0m\u001b[0m\n\u001b[1;32m     14\u001b[0m         \u001b[0mself\u001b[0m\u001b[0;34m.\u001b[0m\u001b[0mbg_image\u001b[0m \u001b[0;34m=\u001b[0m \u001b[0mheat\u001b[0m\u001b[0;34m.\u001b[0m\u001b[0mbg_image\u001b[0m\u001b[0;34m\u001b[0m\u001b[0;34m\u001b[0m\u001b[0m\n",
      "\u001b[0;31mAttributeError\u001b[0m: 'tuple' object has no attribute 'heatmap'"
     ]
    }
   ],
   "source": [
    "\n",
    "# create plot and add plot data\n",
    "p = plot.Plot(h.heatmap)\n",
    "fig, ax = p.create_plot_window()\n",
    "my_cm = p.transparent_cmap(plt.cm.coolwarm)\n",
    "\n",
    "# create plot window\n",
    "ax.imshow(img, alpha=1) # for image\n",
    "\n",
    "# add heatmap\n",
    "p.heat_xy(ax, p.map, h.extent, my_cm)\n",
    "\n",
    "# draw plot\n",
    "plt.show()"
   ]
  },
  {
   "cell_type": "code",
   "execution_count": null,
   "metadata": {},
   "outputs": [],
   "source": []
  }
 ]
}